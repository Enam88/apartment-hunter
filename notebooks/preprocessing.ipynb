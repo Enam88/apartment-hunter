{
 "cells": [
  {
   "cell_type": "code",
   "execution_count": 1,
   "metadata": {},
   "outputs": [],
   "source": [
    "#import libraries\n",
    "import warnings\n",
    "import pandas as pd\n",
    "import matplotlib.pyplot as plt\n",
    "import seaborn as sns\n",
    "import numpy as np\n",
    "from sklearn.preprocessing import StandardScaler\n",
    "from sklearn.cluster import KMeans\n",
    "\n",
    "\n",
    "\n",
    "\n",
    "\n",
    "# Set display options\n",
    "pd.set_option('display.max_columns', None)  # None means unlimited\n",
    "pd.set_option('display.max_rows', None)  # None means unlimited\n",
    "warnings.simplefilter(action=\"ignore\", category=FutureWarning)"
   ]
  },
  {
   "cell_type": "code",
   "execution_count": 2,
   "metadata": {},
   "outputs": [],
   "source": [
    "def wrangle(filepath):\n",
    "    # Read csv file into dataframe\n",
    "    df = pd.read_csv(filepath)\n",
    "    \n",
    "    # Remove duplicated values\n",
    "    df.drop_duplicates(subset=\"id\", inplace=True)\n",
    "    \n",
    "    # Convert date to datetime and split\n",
    "    df[\"date\"] = pd.to_datetime(df[\"date\"])\n",
    "    df[\"year\"] = df[\"date\"].dt.year\n",
    "    df[\"month\"] = df[\"date\"].dt.month\n",
    "    df[\"day\"] = df[\"date\"].dt.day\n",
    "    \n",
    "    # Drop date and id column\n",
    "    df.drop([\"date\", \"id\"], axis=1, inplace=True)\n",
    "\n",
    "    # Drop multicolinear variables\n",
    "    df.drop([\"sqft_above\", \"sqft_above\"], axis=1, inplace=True)\n",
    "    \n",
    "    # Add other data wrangling steps here if needed\n",
    "    \n",
    "    return df\n"
   ]
  },
  {
   "cell_type": "code",
   "execution_count": 3,
   "metadata": {},
   "outputs": [],
   "source": [
    "df = wrangle(r\"C:\\Users\\eakli\\Downloads\\task\\ecole\\house-pricing-prediction\\apartment-hunter\\data\\raw\\kc_house_data.csv\")"
   ]
  },
  {
   "cell_type": "code",
   "execution_count": 4,
   "metadata": {},
   "outputs": [
    {
     "data": {
      "text/html": [
       "<div>\n",
       "<style scoped>\n",
       "    .dataframe tbody tr th:only-of-type {\n",
       "        vertical-align: middle;\n",
       "    }\n",
       "\n",
       "    .dataframe tbody tr th {\n",
       "        vertical-align: top;\n",
       "    }\n",
       "\n",
       "    .dataframe thead th {\n",
       "        text-align: right;\n",
       "    }\n",
       "</style>\n",
       "<table border=\"1\" class=\"dataframe\">\n",
       "  <thead>\n",
       "    <tr style=\"text-align: right;\">\n",
       "      <th></th>\n",
       "      <th>price</th>\n",
       "      <th>bedrooms</th>\n",
       "      <th>bathrooms</th>\n",
       "      <th>sqft_living</th>\n",
       "      <th>sqft_lot</th>\n",
       "      <th>floors</th>\n",
       "      <th>waterfront</th>\n",
       "      <th>view</th>\n",
       "      <th>condition</th>\n",
       "      <th>grade</th>\n",
       "      <th>sqft_basement</th>\n",
       "      <th>yr_built</th>\n",
       "      <th>yr_renovated</th>\n",
       "      <th>zipcode</th>\n",
       "      <th>lat</th>\n",
       "      <th>long</th>\n",
       "      <th>sqft_living15</th>\n",
       "      <th>sqft_lot15</th>\n",
       "      <th>year</th>\n",
       "      <th>month</th>\n",
       "      <th>day</th>\n",
       "    </tr>\n",
       "  </thead>\n",
       "  <tbody>\n",
       "    <tr>\n",
       "      <th>0</th>\n",
       "      <td>221900.0</td>\n",
       "      <td>3</td>\n",
       "      <td>1.00</td>\n",
       "      <td>1180</td>\n",
       "      <td>5650</td>\n",
       "      <td>1.0</td>\n",
       "      <td>0</td>\n",
       "      <td>0</td>\n",
       "      <td>3</td>\n",
       "      <td>7</td>\n",
       "      <td>0</td>\n",
       "      <td>1955</td>\n",
       "      <td>0</td>\n",
       "      <td>98178</td>\n",
       "      <td>47.5112</td>\n",
       "      <td>-122.257</td>\n",
       "      <td>1340</td>\n",
       "      <td>5650</td>\n",
       "      <td>2014</td>\n",
       "      <td>10</td>\n",
       "      <td>13</td>\n",
       "    </tr>\n",
       "    <tr>\n",
       "      <th>1</th>\n",
       "      <td>538000.0</td>\n",
       "      <td>3</td>\n",
       "      <td>2.25</td>\n",
       "      <td>2570</td>\n",
       "      <td>7242</td>\n",
       "      <td>2.0</td>\n",
       "      <td>0</td>\n",
       "      <td>0</td>\n",
       "      <td>3</td>\n",
       "      <td>7</td>\n",
       "      <td>400</td>\n",
       "      <td>1951</td>\n",
       "      <td>1991</td>\n",
       "      <td>98125</td>\n",
       "      <td>47.7210</td>\n",
       "      <td>-122.319</td>\n",
       "      <td>1690</td>\n",
       "      <td>7639</td>\n",
       "      <td>2014</td>\n",
       "      <td>12</td>\n",
       "      <td>9</td>\n",
       "    </tr>\n",
       "    <tr>\n",
       "      <th>2</th>\n",
       "      <td>180000.0</td>\n",
       "      <td>2</td>\n",
       "      <td>1.00</td>\n",
       "      <td>770</td>\n",
       "      <td>10000</td>\n",
       "      <td>1.0</td>\n",
       "      <td>0</td>\n",
       "      <td>0</td>\n",
       "      <td>3</td>\n",
       "      <td>6</td>\n",
       "      <td>0</td>\n",
       "      <td>1933</td>\n",
       "      <td>0</td>\n",
       "      <td>98028</td>\n",
       "      <td>47.7379</td>\n",
       "      <td>-122.233</td>\n",
       "      <td>2720</td>\n",
       "      <td>8062</td>\n",
       "      <td>2015</td>\n",
       "      <td>2</td>\n",
       "      <td>25</td>\n",
       "    </tr>\n",
       "    <tr>\n",
       "      <th>3</th>\n",
       "      <td>604000.0</td>\n",
       "      <td>4</td>\n",
       "      <td>3.00</td>\n",
       "      <td>1960</td>\n",
       "      <td>5000</td>\n",
       "      <td>1.0</td>\n",
       "      <td>0</td>\n",
       "      <td>0</td>\n",
       "      <td>5</td>\n",
       "      <td>7</td>\n",
       "      <td>910</td>\n",
       "      <td>1965</td>\n",
       "      <td>0</td>\n",
       "      <td>98136</td>\n",
       "      <td>47.5208</td>\n",
       "      <td>-122.393</td>\n",
       "      <td>1360</td>\n",
       "      <td>5000</td>\n",
       "      <td>2014</td>\n",
       "      <td>12</td>\n",
       "      <td>9</td>\n",
       "    </tr>\n",
       "    <tr>\n",
       "      <th>4</th>\n",
       "      <td>510000.0</td>\n",
       "      <td>3</td>\n",
       "      <td>2.00</td>\n",
       "      <td>1680</td>\n",
       "      <td>8080</td>\n",
       "      <td>1.0</td>\n",
       "      <td>0</td>\n",
       "      <td>0</td>\n",
       "      <td>3</td>\n",
       "      <td>8</td>\n",
       "      <td>0</td>\n",
       "      <td>1987</td>\n",
       "      <td>0</td>\n",
       "      <td>98074</td>\n",
       "      <td>47.6168</td>\n",
       "      <td>-122.045</td>\n",
       "      <td>1800</td>\n",
       "      <td>7503</td>\n",
       "      <td>2015</td>\n",
       "      <td>2</td>\n",
       "      <td>18</td>\n",
       "    </tr>\n",
       "  </tbody>\n",
       "</table>\n",
       "</div>"
      ],
      "text/plain": [
       "      price  bedrooms  bathrooms  sqft_living  sqft_lot  floors  waterfront  \\\n",
       "0  221900.0         3       1.00         1180      5650     1.0           0   \n",
       "1  538000.0         3       2.25         2570      7242     2.0           0   \n",
       "2  180000.0         2       1.00          770     10000     1.0           0   \n",
       "3  604000.0         4       3.00         1960      5000     1.0           0   \n",
       "4  510000.0         3       2.00         1680      8080     1.0           0   \n",
       "\n",
       "   view  condition  grade  sqft_basement  yr_built  yr_renovated  zipcode  \\\n",
       "0     0          3      7              0      1955             0    98178   \n",
       "1     0          3      7            400      1951          1991    98125   \n",
       "2     0          3      6              0      1933             0    98028   \n",
       "3     0          5      7            910      1965             0    98136   \n",
       "4     0          3      8              0      1987             0    98074   \n",
       "\n",
       "       lat     long  sqft_living15  sqft_lot15  year  month  day  \n",
       "0  47.5112 -122.257           1340        5650  2014     10   13  \n",
       "1  47.7210 -122.319           1690        7639  2014     12    9  \n",
       "2  47.7379 -122.233           2720        8062  2015      2   25  \n",
       "3  47.5208 -122.393           1360        5000  2014     12    9  \n",
       "4  47.6168 -122.045           1800        7503  2015      2   18  "
      ]
     },
     "execution_count": 4,
     "metadata": {},
     "output_type": "execute_result"
    }
   ],
   "source": [
    "df.head()"
   ]
  },
  {
   "cell_type": "code",
   "execution_count": 5,
   "metadata": {},
   "outputs": [
    {
     "data": {
      "text/plain": [
       "(21436, 21)"
      ]
     },
     "execution_count": 5,
     "metadata": {},
     "output_type": "execute_result"
    }
   ],
   "source": [
    "df.shape"
   ]
  },
  {
   "cell_type": "code",
   "execution_count": 6,
   "metadata": {},
   "outputs": [
    {
     "data": {
      "text/plain": [
       "count       21,436\n",
       "mean       540,529\n",
       "std        367,689\n",
       "min         75,000\n",
       "25%        322,150\n",
       "50%        450,000\n",
       "75%        645,000\n",
       "max      7,700,000\n",
       "Name: price, dtype: object"
      ]
     },
     "execution_count": 6,
     "metadata": {},
     "output_type": "execute_result"
    }
   ],
   "source": [
    "df[\"price\"].describe().apply(\"{0:,.0f}\".format)"
   ]
  },
  {
   "cell_type": "code",
   "execution_count": 32,
   "metadata": {},
   "outputs": [
    {
     "data": {
      "text/plain": [
       "<Axes: xlabel='price', ylabel='Count'>"
      ]
     },
     "execution_count": 32,
     "metadata": {},
     "output_type": "execute_result"
    },
    {
     "data": {
      "image/png": "[encoded data removed]",
      "text/plain": [
       "<Figure size 640x480 with 1 Axes>"
      ]
     },
     "metadata": {},
     "output_type": "display_data"
    }
   ],
   "source": [
    "price_less_3e6 = df[df[\"price\"] < 3_000_000]\n",
    "price_less_3e6[\"sqft_living\"].describe().apply(\"{0:,.0f}\".format)\n",
    "price_less_3e6[\"price\"].describe().apply(\"{0:,.0f}\".format)\n",
    "\n",
    "\n",
    "sns.histplot(price_less_3e6[\"price\"], kde=True)"
   ]
  },
  {
   "cell_type": "code",
   "execution_count": 50,
   "metadata": {},
   "outputs": [
    {
     "name": "stdout",
     "output_type": "stream",
     "text": [
      "(21238, 21)\n"
     ]
    },
    {
     "data": {
      "text/plain": [
       "count       21,238\n",
       "mean       519,694\n",
       "std        287,813\n",
       "min         75,000\n",
       "25%        320,000\n",
       "50%        450,000\n",
       "75%        635,438\n",
       "max      2,000,000\n",
       "Name: price, dtype: object"
      ]
     },
     "execution_count": 50,
     "metadata": {},
     "output_type": "execute_result"
    },
    {
     "data": {
      "image/png": "[encoded data removed]",
      "text/plain": [
       "<Figure size 640x480 with 1 Axes>"
      ]
     },
     "metadata": {},
     "output_type": "display_data"
    }
   ],
   "source": [
    "price_equals_less_2e6 = df[df[\"price\"] <= 2_000_000]\n",
    "price_equals_less_2e6[\"sqft_living\"].describe().apply(\"{0:,.0f}\".format)\n",
    "\n",
    "\n",
    "sns.histplot(price_equals_less_2e6[\"price\"], kde=True)\n",
    "\n",
    "print(price_equals_less_2e6.shape)\n",
    "price_equals_less_2e6[\"price\"].describe().apply(\"{0:,.0f}\".format)\n",
    "\n"
   ]
  },
  {
   "cell_type": "code",
   "execution_count": 46,
   "metadata": {},
   "outputs": [
    {
     "name": "stdout",
     "output_type": "stream",
     "text": [
      "(19979, 21)\n"
     ]
    },
    {
     "data": {
      "text/plain": [
       "count       19,979\n",
       "mean       467,931\n",
       "std        196,437\n",
       "min         75,000\n",
       "25%        314,950\n",
       "50%        435,000\n",
       "75%        594,000\n",
       "max      1,000,000\n",
       "Name: price, dtype: object"
      ]
     },
     "execution_count": 46,
     "metadata": {},
     "output_type": "execute_result"
    },
    {
     "data": {
      "image/png": "[encoded data removed]",
      "text/plain": [
       "<Figure size 640x480 with 1 Axes>"
      ]
     },
     "metadata": {},
     "output_type": "display_data"
    }
   ],
   "source": [
    "price_equals_less_1e6 = df[df[\"price\"] <= 1_000_000]\n",
    "price_equals_less_1e6[\"sqft_living\"].describe().apply(\"{0:,.0f}\".format)\n",
    "# price_equals_less_1e6[\"price\"].describe().apply(\"{0:,.0f}\".format)\n",
    "\n",
    "\n",
    "sns.histplot(price_equals_less_1e6[\"price\"], kde=True)\n",
    "print(price_equals_less_1e6.shape)\n",
    "\n",
    "price_equals_less_1e6[\"price\"].describe().apply(\"{0:,.0f}\".format)\n"
   ]
  },
  {
   "cell_type": "code",
   "execution_count": 48,
   "metadata": {},
   "outputs": [
    {
     "name": "stdout",
     "output_type": "stream",
     "text": [
      "(50, 21)\n"
     ]
    },
    {
     "data": {
      "text/plain": [
       "count           50\n",
       "mean     3,819,715\n",
       "std      1,088,118\n",
       "min      3,000,000\n",
       "25%      3,176,562\n",
       "50%      3,397,500\n",
       "75%      3,837,500\n",
       "max      7,700,000\n",
       "Name: price, dtype: object"
      ]
     },
     "execution_count": 48,
     "metadata": {},
     "output_type": "execute_result"
    },
    {
     "data": {
      "image/png": "[encoded data removed]",
      "text/plain": [
       "<Figure size 640x480 with 1 Axes>"
      ]
     },
     "metadata": {},
     "output_type": "display_data"
    }
   ],
   "source": [
    "price_over_3e6 = df[df[\"price\"] >= 3_000_000]\n",
    "price_over_3e6[\"sqft_living\"].describe().apply(\"{0:,.0f}\".format)\n",
    "\n",
    "\n",
    "sns.histplot(price_over_3e6[\"price\"], kde=True)\n",
    "print(price_over_3e6.shape)\n",
    "price_over_3e6[\"price\"].describe().apply(\"{0:,.0f}\".format)\n"
   ]
  },
  {
   "cell_type": "code",
   "execution_count": 39,
   "metadata": {},
   "outputs": [
    {
     "data": {
      "text/plain": [
       "count        1,139\n",
       "mean     1,667,952\n",
       "std        653,911\n",
       "min      1,130,000\n",
       "25%      1,260,250\n",
       "50%      1,450,000\n",
       "75%      1,815,000\n",
       "max      7,700,000\n",
       "Name: price, dtype: object"
      ]
     },
     "execution_count": 39,
     "metadata": {},
     "output_type": "execute_result"
    }
   ],
   "source": [
    "#Handling outliers for \"price\" - here we are just checking extreme values\n",
    "price_Q1 = df[\"price\"].quantile(0.25)\n",
    "price_Q3 = df[\"price\"].quantile(0.75)\n",
    "price_IQR = price_Q3 - price_Q1\n",
    "lower_bound = price_Q1 - (1.5 * price_IQR)\n",
    "upper_bound = price_Q3 + (1.5 * price_IQR)\n",
    "\n",
    "outliers_df = df[(df[\"price\"] < lower_bound) | (df[\"price\"] > upper_bound)]\n",
    "\n",
    "outliers_df[\"price\"].describe().apply(\"{0:,.0f}\".format)"
   ]
  },
  {
   "cell_type": "code",
   "execution_count": null,
   "metadata": {},
   "outputs": [],
   "source": [
    "# Handling outliers for 'price' - here we are just checking for extreme values\n",
    "price_Q1 = df['price'].quantile(0.25)\n",
    "price_Q3 = df['price'].quantile(0.75)\n",
    "price_IQR = price_Q3 - price_Q1\n",
    "lower_bound = price_Q1 - (1.5 * price_IQR)\n",
    "upper_bound = price_Q3 + (1.5 * price_IQR)\n",
    "outliers_df = df[(df['price'] < lower_bound) | (df['price'] > upper_bound)]\n",
    "\n",
    "# Dropping the extreme outliers for 'price'\n",
    "df = df[(df['price'] >= lower_bound) & (df['price'] <= upper_bound)]\n",
    "\n",
    "# Checking the new shape of the dataset after cleaning\n",
    "new_shape = df.shape"
   ]
  },
  {
   "cell_type": "code",
   "execution_count": null,
   "metadata": {},
   "outputs": [],
   "source": [
    "# # Convert 'zipcode' to a string format\n",
    "# df['zipcode'] = df['zipcode'].astype(str)"
   ]
  },
  {
   "cell_type": "code",
   "execution_count": null,
   "metadata": {},
   "outputs": [],
   "source": [
    "zipcode_avg_price = df.groupby('zipcode')['price'].mean()#.sort_values(ascending=False)\n"
   ]
  },
  {
   "cell_type": "code",
   "execution_count": null,
   "metadata": {},
   "outputs": [],
   "source": [
    "# Prepare the data for feature enginnering\n",
    "geo_data = df[['zipcode', 'lat', 'long']].drop_duplicates()\n",
    "geo_data['avg_price'] = geo_data['zipcode'].map(zipcode_avg_price)\n",
    "\n",
    "# Scale the features\n",
    "scaler = StandardScaler()\n",
    "geo_data_scaled = scaler.fit_transform(geo_data[['lat', 'long', 'avg_price']])\n",
    "\n",
    "# Apply K-Means Clustering\n",
    "kmeans = KMeans(n_clusters=5, random_state=42)\n",
    "geo_data['cluster'] = kmeans.fit_predict(geo_data_scaled)\n",
    "\n",
    "# Create a mapping from zipcode to cluster\n",
    "zipcode_to_cluster = geo_data.set_index('zipcode')['cluster'].to_dict()\n",
    "\n",
    "# Map the geographic groupings back to the original properties\n",
    "df['geo_group'] = df['zipcode'].map(zipcode_to_cluster)\n"
   ]
  },
  {
   "cell_type": "code",
   "execution_count": null,
   "metadata": {},
   "outputs": [],
   "source": [
    "df.head()"
   ]
  },
  {
   "cell_type": "code",
   "execution_count": null,
   "metadata": {},
   "outputs": [],
   "source": [
    "# Assuming df is your DataFrame and 'bathrooms' is the column of interest\n",
    "df['full_bathrooms'] = df['bathrooms'].apply(lambda x: int(x))  # Full bathrooms are the integer part\n",
    "df['half_bathrooms'] = df['bathrooms'].apply(lambda x: (x - int(x)) * 2)  # Half bathrooms are the fractional part, multiplied by 2\n",
    "\n",
    "# Create a feature for unusual bathroom counts\n",
    "df['unusual_bath_count'] = df['bathrooms'].isin([0, 0.75]).astype(int)\n",
    "\n",
    "# Investigate properties with 0 bathrooms\n",
    "properties_with_no_bathrooms = df[df['bathrooms'] == 0]"
   ]
  },
  {
   "cell_type": "code",
   "execution_count": null,
   "metadata": {},
   "outputs": [],
   "source": [
    "corr_matrix = df.corr()\n",
    "\n",
    "\n",
    "plt.figure(figsize=(12, 10))\n",
    "sns.heatmap(corr_matrix[['price']].sort_values(by='price', ascending=False), \n",
    "            annot=True, cmap='coolwarm', vmin=-1, vmax=1)\n",
    "plt.title('Correlation Matrix with Price Including Date Features')\n",
    "plt.show()"
   ]
  },
  {
   "cell_type": "code",
   "execution_count": null,
   "metadata": {},
   "outputs": [],
   "source": []
  }
 ],
 "metadata": {
  "kernelspec": {
   "display_name": "base",
   "language": "python",
   "name": "python3"
  },
  "language_info": {
   "codemirror_mode": {
    "name": "ipython",
    "version": 3
   },
   "file_extension": ".py",
   "mimetype": "text/x-python",
   "name": "python",
   "nbconvert_exporter": "python",
   "pygments_lexer": "ipython3",
   "version": "3.11.5"
  }
 },
 "nbformat": 4,
 "nbformat_minor": 2
}
